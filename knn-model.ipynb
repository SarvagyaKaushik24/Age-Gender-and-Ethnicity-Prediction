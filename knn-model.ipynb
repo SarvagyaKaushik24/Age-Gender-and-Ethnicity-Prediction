{
 "cells": [
  {
   "cell_type": "code",
   "execution_count": 1,
   "id": "ba9e11a5",
   "metadata": {
    "execution": {
     "iopub.execute_input": "2024-10-24T05:43:03.744585Z",
     "iopub.status.busy": "2024-10-24T05:43:03.744094Z",
     "iopub.status.idle": "2024-10-24T05:43:04.670942Z",
     "shell.execute_reply": "2024-10-24T05:43:04.669891Z"
    },
    "papermill": {
     "duration": 0.936121,
     "end_time": "2024-10-24T05:43:04.673829",
     "exception": false,
     "start_time": "2024-10-24T05:43:03.737708",
     "status": "completed"
    },
    "tags": []
   },
   "outputs": [],
   "source": [
    "import numpy as np\n",
    "import pandas as pd\n"
   ]
  },
  {
   "cell_type": "code",
   "execution_count": 2,
   "id": "ea62dccd",
   "metadata": {
    "execution": {
     "iopub.execute_input": "2024-10-24T05:43:04.684554Z",
     "iopub.status.busy": "2024-10-24T05:43:04.683972Z",
     "iopub.status.idle": "2024-10-24T05:46:29.513676Z",
     "shell.execute_reply": "2024-10-24T05:46:29.512469Z"
    },
    "papermill": {
     "duration": 204.838765,
     "end_time": "2024-10-24T05:46:29.517159",
     "exception": false,
     "start_time": "2024-10-24T05:43:04.678394",
     "status": "completed"
    },
    "tags": []
   },
   "outputs": [],
   "source": [
    "import os\n",
    "import pandas as pd\n",
    "from PIL import Image\n",
    "import numpy as np\n",
    "\n",
    "# Define the directory containing the images\n",
    "image_dir = \"/kaggle/input/utkface-new/UTKFace\"\n",
    "\n",
    "# Initialize lists to store data\n",
    "data = {\n",
    "    \"img_name\": [],\n",
    "    \"age\": [],\n",
    "    \"gender\": [],\n",
    "    \"ethnicity\": [],\n",
    "    \"pixels\": []\n",
    "}\n",
    "\n",
    "# Loop over all images in the directory\n",
    "for img_name in os.listdir(image_dir):\n",
    "    if img_name.endswith('.jpg.chip.jpg'):\n",
    "        # Extract information from the filename\n",
    "#         print(img_name.split('_'))\n",
    "        age = img_name.split('_')[0]\n",
    "        gender = img_name.split('_')[1]\n",
    "        ethnicity = img_name.split('_')[2]\n",
    "        # Open the image and convert it to grayscale\n",
    "        img_path = os.path.join(image_dir, img_name)\n",
    "        img = Image.open(img_path).convert('L')  # Convert to grayscale\n",
    "        \n",
    "        # Resize or reshape image if needed (optional)\n",
    "        img = img.resize((48, 48))  # Example resize to 48x48\n",
    "        pixels = np.array(img).flatten().tolist()  # Convert image to a flat list of pixel values\n",
    "        \n",
    "        # Append data to the lists\n",
    "        data[\"img_name\"].append(img_name)\n",
    "        data[\"age\"].append(int(age))\n",
    "        data[\"gender\"].append(int(gender))\n",
    "        if len(ethnicity) == 1:\n",
    "            data[\"ethnicity\"].append(int(ethnicity))\n",
    "        else:\n",
    "            data[\"ethnicity\"].append(-1)\n",
    "        data[\"pixels\"].append(' '.join(map(str, pixels)))\n",
    "\n",
    "# Create a DataFrame from the data\n",
    "df = pd.DataFrame(data)\n",
    "\n",
    "# Save the DataFrame to a CSV file\n",
    "df.to_csv('age_gender.csv', index=False)\n"
   ]
  },
  {
   "cell_type": "code",
   "execution_count": 3,
   "id": "c6bb1e4d",
   "metadata": {
    "execution": {
     "iopub.execute_input": "2024-10-24T05:46:29.527634Z",
     "iopub.status.busy": "2024-10-24T05:46:29.527089Z",
     "iopub.status.idle": "2024-10-24T05:46:32.024190Z",
     "shell.execute_reply": "2024-10-24T05:46:32.022953Z"
    },
    "papermill": {
     "duration": 2.50559,
     "end_time": "2024-10-24T05:46:32.027046",
     "exception": false,
     "start_time": "2024-10-24T05:46:29.521456",
     "status": "completed"
    },
    "tags": []
   },
   "outputs": [],
   "source": [
    "df = pd.read_csv('/kaggle/working/age_gender.csv')"
   ]
  },
  {
   "cell_type": "code",
   "execution_count": 4,
   "id": "8be8aa88",
   "metadata": {
    "execution": {
     "iopub.execute_input": "2024-10-24T05:46:32.037823Z",
     "iopub.status.busy": "2024-10-24T05:46:32.036817Z",
     "iopub.status.idle": "2024-10-24T05:46:32.071234Z",
     "shell.execute_reply": "2024-10-24T05:46:32.069957Z"
    },
    "papermill": {
     "duration": 0.043174,
     "end_time": "2024-10-24T05:46:32.074501",
     "exception": false,
     "start_time": "2024-10-24T05:46:32.031327",
     "status": "completed"
    },
    "tags": []
   },
   "outputs": [
    {
     "data": {
      "text/html": [
       "<div>\n",
       "<style scoped>\n",
       "    .dataframe tbody tr th:only-of-type {\n",
       "        vertical-align: middle;\n",
       "    }\n",
       "\n",
       "    .dataframe tbody tr th {\n",
       "        vertical-align: top;\n",
       "    }\n",
       "\n",
       "    .dataframe thead th {\n",
       "        text-align: right;\n",
       "    }\n",
       "</style>\n",
       "<table border=\"1\" class=\"dataframe\">\n",
       "  <thead>\n",
       "    <tr style=\"text-align: right;\">\n",
       "      <th></th>\n",
       "      <th>gender</th>\n",
       "      <th>pixels</th>\n",
       "    </tr>\n",
       "  </thead>\n",
       "  <tbody>\n",
       "    <tr>\n",
       "      <th>0</th>\n",
       "      <td>0</td>\n",
       "      <td>7 4 6 5 14 75 146 172 183 185 189 193 196 200 ...</td>\n",
       "    </tr>\n",
       "    <tr>\n",
       "      <th>1</th>\n",
       "      <td>1</td>\n",
       "      <td>4 1 2 7 9 13 20 27 34 42 47 56 76 90 99 108 11...</td>\n",
       "    </tr>\n",
       "    <tr>\n",
       "      <th>2</th>\n",
       "      <td>1</td>\n",
       "      <td>37 35 32 28 24 20 23 32 38 45 57 72 86 99 112 ...</td>\n",
       "    </tr>\n",
       "    <tr>\n",
       "      <th>3</th>\n",
       "      <td>0</td>\n",
       "      <td>114 124 125 126 134 146 156 162 165 162 158 15...</td>\n",
       "    </tr>\n",
       "    <tr>\n",
       "      <th>4</th>\n",
       "      <td>1</td>\n",
       "      <td>115 129 143 160 172 178 184 188 191 194 195 19...</td>\n",
       "    </tr>\n",
       "    <tr>\n",
       "      <th>...</th>\n",
       "      <td>...</td>\n",
       "      <td>...</td>\n",
       "    </tr>\n",
       "    <tr>\n",
       "      <th>23702</th>\n",
       "      <td>0</td>\n",
       "      <td>46 53 67 90 101 103 103 107 114 117 120 123 12...</td>\n",
       "    </tr>\n",
       "    <tr>\n",
       "      <th>23703</th>\n",
       "      <td>0</td>\n",
       "      <td>213 198 177 135 120 92 75 72 68 65 64 64 53 54...</td>\n",
       "    </tr>\n",
       "    <tr>\n",
       "      <th>23704</th>\n",
       "      <td>0</td>\n",
       "      <td>190 190 191 193 197 200 201 202 204 204 206 20...</td>\n",
       "    </tr>\n",
       "    <tr>\n",
       "      <th>23705</th>\n",
       "      <td>1</td>\n",
       "      <td>122 139 116 141 163 161 158 142 128 126 152 17...</td>\n",
       "    </tr>\n",
       "    <tr>\n",
       "      <th>23706</th>\n",
       "      <td>0</td>\n",
       "      <td>225 241 237 102 89 99 112 113 105 119 67 14 23...</td>\n",
       "    </tr>\n",
       "  </tbody>\n",
       "</table>\n",
       "<p>23707 rows × 2 columns</p>\n",
       "</div>"
      ],
      "text/plain": [
       "       gender                                             pixels\n",
       "0           0  7 4 6 5 14 75 146 172 183 185 189 193 196 200 ...\n",
       "1           1  4 1 2 7 9 13 20 27 34 42 47 56 76 90 99 108 11...\n",
       "2           1  37 35 32 28 24 20 23 32 38 45 57 72 86 99 112 ...\n",
       "3           0  114 124 125 126 134 146 156 162 165 162 158 15...\n",
       "4           1  115 129 143 160 172 178 184 188 191 194 195 19...\n",
       "...       ...                                                ...\n",
       "23702       0  46 53 67 90 101 103 103 107 114 117 120 123 12...\n",
       "23703       0  213 198 177 135 120 92 75 72 68 65 64 64 53 54...\n",
       "23704       0  190 190 191 193 197 200 201 202 204 204 206 20...\n",
       "23705       1  122 139 116 141 163 161 158 142 128 126 152 17...\n",
       "23706       0  225 241 237 102 89 99 112 113 105 119 67 14 23...\n",
       "\n",
       "[23707 rows x 2 columns]"
      ]
     },
     "execution_count": 4,
     "metadata": {},
     "output_type": "execute_result"
    }
   ],
   "source": [
    "data = df.drop(['img_name','age','ethnicity'],axis= 1)\n",
    "data"
   ]
  },
  {
   "cell_type": "code",
   "execution_count": 5,
   "id": "b66f762b",
   "metadata": {
    "execution": {
     "iopub.execute_input": "2024-10-24T05:46:32.086017Z",
     "iopub.status.busy": "2024-10-24T05:46:32.084955Z",
     "iopub.status.idle": "2024-10-24T05:46:45.492558Z",
     "shell.execute_reply": "2024-10-24T05:46:45.491485Z"
    },
    "papermill": {
     "duration": 13.416245,
     "end_time": "2024-10-24T05:46:45.495325",
     "exception": false,
     "start_time": "2024-10-24T05:46:32.079080",
     "status": "completed"
    },
    "tags": []
   },
   "outputs": [
    {
     "data": {
      "text/html": [
       "<div>\n",
       "<style scoped>\n",
       "    .dataframe tbody tr th:only-of-type {\n",
       "        vertical-align: middle;\n",
       "    }\n",
       "\n",
       "    .dataframe tbody tr th {\n",
       "        vertical-align: top;\n",
       "    }\n",
       "\n",
       "    .dataframe thead th {\n",
       "        text-align: right;\n",
       "    }\n",
       "</style>\n",
       "<table border=\"1\" class=\"dataframe\">\n",
       "  <thead>\n",
       "    <tr style=\"text-align: right;\">\n",
       "      <th></th>\n",
       "      <th>gender</th>\n",
       "      <th>pixels</th>\n",
       "    </tr>\n",
       "  </thead>\n",
       "  <tbody>\n",
       "    <tr>\n",
       "      <th>0</th>\n",
       "      <td>0</td>\n",
       "      <td>[0.02745098, 0.015686275, 0.023529412, 0.01960...</td>\n",
       "    </tr>\n",
       "    <tr>\n",
       "      <th>1</th>\n",
       "      <td>1</td>\n",
       "      <td>[0.015686275, 0.003921569, 0.007843138, 0.0274...</td>\n",
       "    </tr>\n",
       "    <tr>\n",
       "      <th>2</th>\n",
       "      <td>1</td>\n",
       "      <td>[0.14509805, 0.13725491, 0.1254902, 0.10980392...</td>\n",
       "    </tr>\n",
       "    <tr>\n",
       "      <th>3</th>\n",
       "      <td>0</td>\n",
       "      <td>[0.44705883, 0.4862745, 0.49019608, 0.49411765...</td>\n",
       "    </tr>\n",
       "    <tr>\n",
       "      <th>4</th>\n",
       "      <td>1</td>\n",
       "      <td>[0.4509804, 0.5058824, 0.56078434, 0.627451, 0...</td>\n",
       "    </tr>\n",
       "    <tr>\n",
       "      <th>...</th>\n",
       "      <td>...</td>\n",
       "      <td>...</td>\n",
       "    </tr>\n",
       "    <tr>\n",
       "      <th>23702</th>\n",
       "      <td>0</td>\n",
       "      <td>[0.18039216, 0.20784314, 0.2627451, 0.3529412,...</td>\n",
       "    </tr>\n",
       "    <tr>\n",
       "      <th>23703</th>\n",
       "      <td>0</td>\n",
       "      <td>[0.8352941, 0.7764706, 0.69411767, 0.5294118, ...</td>\n",
       "    </tr>\n",
       "    <tr>\n",
       "      <th>23704</th>\n",
       "      <td>0</td>\n",
       "      <td>[0.74509805, 0.74509805, 0.7490196, 0.75686276...</td>\n",
       "    </tr>\n",
       "    <tr>\n",
       "      <th>23705</th>\n",
       "      <td>1</td>\n",
       "      <td>[0.47843137, 0.54509807, 0.45490196, 0.5529412...</td>\n",
       "    </tr>\n",
       "    <tr>\n",
       "      <th>23706</th>\n",
       "      <td>0</td>\n",
       "      <td>[0.88235295, 0.94509804, 0.92941177, 0.4, 0.34...</td>\n",
       "    </tr>\n",
       "  </tbody>\n",
       "</table>\n",
       "<p>23707 rows × 2 columns</p>\n",
       "</div>"
      ],
      "text/plain": [
       "       gender                                             pixels\n",
       "0           0  [0.02745098, 0.015686275, 0.023529412, 0.01960...\n",
       "1           1  [0.015686275, 0.003921569, 0.007843138, 0.0274...\n",
       "2           1  [0.14509805, 0.13725491, 0.1254902, 0.10980392...\n",
       "3           0  [0.44705883, 0.4862745, 0.49019608, 0.49411765...\n",
       "4           1  [0.4509804, 0.5058824, 0.56078434, 0.627451, 0...\n",
       "...       ...                                                ...\n",
       "23702       0  [0.18039216, 0.20784314, 0.2627451, 0.3529412,...\n",
       "23703       0  [0.8352941, 0.7764706, 0.69411767, 0.5294118, ...\n",
       "23704       0  [0.74509805, 0.74509805, 0.7490196, 0.75686276...\n",
       "23705       1  [0.47843137, 0.54509807, 0.45490196, 0.5529412...\n",
       "23706       0  [0.88235295, 0.94509804, 0.92941177, 0.4, 0.34...\n",
       "\n",
       "[23707 rows x 2 columns]"
      ]
     },
     "execution_count": 5,
     "metadata": {},
     "output_type": "execute_result"
    }
   ],
   "source": [
    "data['pixels']=data['pixels'].apply(lambda x:  np.array(x.split(), dtype=\"float32\"))\n",
    "\n",
    "\n",
    "data['pixels'] = data['pixels'].apply(lambda x: x/255)\n",
    "data"
   ]
  },
  {
   "cell_type": "code",
   "execution_count": 6,
   "id": "76f31dce",
   "metadata": {
    "execution": {
     "iopub.execute_input": "2024-10-24T05:46:45.507024Z",
     "iopub.status.busy": "2024-10-24T05:46:45.506150Z",
     "iopub.status.idle": "2024-10-24T05:46:45.512914Z",
     "shell.execute_reply": "2024-10-24T05:46:45.511834Z"
    },
    "papermill": {
     "duration": 0.015297,
     "end_time": "2024-10-24T05:46:45.515387",
     "exception": false,
     "start_time": "2024-10-24T05:46:45.500090",
     "status": "completed"
    },
    "tags": []
   },
   "outputs": [],
   "source": [
    "data = data.to_numpy()\n",
    "\n"
   ]
  },
  {
   "cell_type": "code",
   "execution_count": 7,
   "id": "ada89cd2",
   "metadata": {
    "execution": {
     "iopub.execute_input": "2024-10-24T05:46:45.527037Z",
     "iopub.status.busy": "2024-10-24T05:46:45.526554Z",
     "iopub.status.idle": "2024-10-24T05:46:45.704440Z",
     "shell.execute_reply": "2024-10-24T05:46:45.703209Z"
    },
    "papermill": {
     "duration": 0.186877,
     "end_time": "2024-10-24T05:46:45.706999",
     "exception": false,
     "start_time": "2024-10-24T05:46:45.520122",
     "status": "completed"
    },
    "tags": []
   },
   "outputs": [
    {
     "data": {
      "text/plain": [
       "(23707, 2304)"
      ]
     },
     "execution_count": 7,
     "metadata": {},
     "output_type": "execute_result"
    }
   ],
   "source": [
    "\n",
    "img = data[:,1:]\n",
    "\n",
    "data_2d = np.vstack(img)\n",
    "\n",
    "X = np.array([x[0] for x in img])\n",
    "# Print the resulting 2D NumPy array\n",
    "y = data[:, 0].astype(int)\n",
    "# from sklearn.decomposition import PCA\n",
    "\n",
    "# # Create a PCA instance with the desired number of components\n",
    "# n_components = 500 # Adjust this based on the number of components you want to keep\n",
    "# pca = PCA(n_components=n_components)\n",
    "# # Fit the PCA model to your data and transform it\n",
    "# X = pca.fit_transform(X)\n",
    "\n",
    "X.shape"
   ]
  },
  {
   "cell_type": "code",
   "execution_count": 8,
   "id": "9f19c00c",
   "metadata": {
    "execution": {
     "iopub.execute_input": "2024-10-24T05:46:45.718426Z",
     "iopub.status.busy": "2024-10-24T05:46:45.717965Z",
     "iopub.status.idle": "2024-10-24T05:46:55.338495Z",
     "shell.execute_reply": "2024-10-24T05:46:55.336941Z"
    },
    "papermill": {
     "duration": 9.62943,
     "end_time": "2024-10-24T05:46:55.341275",
     "exception": false,
     "start_time": "2024-10-24T05:46:45.711845",
     "status": "completed"
    },
    "tags": []
   },
   "outputs": [
    {
     "name": "stdout",
     "output_type": "stream",
     "text": [
      "Accuracy: 0.7372416701813581\n",
      "Classification Report:\n",
      "               precision    recall  f1-score   support\n",
      "\n",
      "           0       0.71      0.85      0.77      2490\n",
      "           1       0.79      0.61      0.69      2252\n",
      "\n",
      "    accuracy                           0.74      4742\n",
      "   macro avg       0.75      0.73      0.73      4742\n",
      "weighted avg       0.75      0.74      0.73      4742\n",
      "\n",
      "Confusion Matrix:\n",
      " [[2128  362]\n",
      " [ 884 1368]]\n"
     ]
    }
   ],
   "source": [
    "import numpy as np\n",
    "from sklearn.neighbors import KNeighborsClassifier\n",
    "from sklearn.model_selection import train_test_split\n",
    "from sklearn.metrics import accuracy_score, classification_report, confusion_matrix\n",
    "\n",
    "X_train, X_test, y_train, y_test = train_test_split(X, y, test_size=0.2, random_state=42)\n",
    "\n",
    "k = 20 # Number of neighbors\n",
    "knn_classifier = KNeighborsClassifier(n_neighbors=k)\n",
    "\n",
    "knn_classifier.fit(X_train, y_train)\n",
    "\n",
    "y_pred = knn_classifier.predict(X_test)\n",
    "\n",
    "accuracy = accuracy_score(y_test, y_pred)\n",
    "report = classification_report(y_test, y_pred)\n",
    "conf_matrix = confusion_matrix(y_test, y_pred)\n",
    "\n",
    "print(\"Accuracy:\", accuracy)\n",
    "print(\"Classification Report:\\n\", report)\n",
    "print(\"Confusion Matrix:\\n\", conf_matrix)\n"
   ]
  },
  {
   "cell_type": "code",
   "execution_count": 9,
   "id": "b218e2d2",
   "metadata": {
    "execution": {
     "iopub.execute_input": "2024-10-24T05:46:55.353647Z",
     "iopub.status.busy": "2024-10-24T05:46:55.352686Z",
     "iopub.status.idle": "2024-10-24T05:46:55.361146Z",
     "shell.execute_reply": "2024-10-24T05:46:55.360025Z"
    },
    "papermill": {
     "duration": 0.017368,
     "end_time": "2024-10-24T05:46:55.363667",
     "exception": false,
     "start_time": "2024-10-24T05:46:55.346299",
     "status": "completed"
    },
    "tags": []
   },
   "outputs": [
    {
     "data": {
      "text/plain": [
       "array([0,\n",
       "       array([0.02745098, 0.01568628, 0.02352941, ..., 0.04313726, 0.01176471,\n",
       "              0.01568628], dtype=float32)                                     ],\n",
       "      dtype=object)"
      ]
     },
     "execution_count": 9,
     "metadata": {},
     "output_type": "execute_result"
    }
   ],
   "source": [
    "y = data[0,:]\n",
    "y"
   ]
  }
 ],
 "metadata": {
  "kaggle": {
   "accelerator": "none",
   "dataSources": [
    {
     "datasetId": 44109,
     "sourceId": 78156,
     "sourceType": "datasetVersion"
    }
   ],
   "dockerImageVersionId": 30786,
   "isGpuEnabled": false,
   "isInternetEnabled": true,
   "language": "python",
   "sourceType": "notebook"
  },
  "kernelspec": {
   "display_name": "Python 3",
   "language": "python",
   "name": "python3"
  },
  "language_info": {
   "codemirror_mode": {
    "name": "ipython",
    "version": 3
   },
   "file_extension": ".py",
   "mimetype": "text/x-python",
   "name": "python",
   "nbconvert_exporter": "python",
   "pygments_lexer": "ipython3",
   "version": "3.10.14"
  },
  "papermill": {
   "default_parameters": {},
   "duration": 235.423139,
   "end_time": "2024-10-24T05:46:56.091555",
   "environment_variables": {},
   "exception": null,
   "input_path": "__notebook__.ipynb",
   "output_path": "__notebook__.ipynb",
   "parameters": {},
   "start_time": "2024-10-24T05:43:00.668416",
   "version": "2.6.0"
  }
 },
 "nbformat": 4,
 "nbformat_minor": 5
}
